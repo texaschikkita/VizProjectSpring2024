{
 "cells": [
  {
   "cell_type": "code",
   "execution_count": 1,
   "metadata": {},
   "outputs": [],
   "source": [
    "import plotly.express as px\n",
    "import librosa\n",
    "import numpy as np\n",
    "\n",
    "# Load the audio data\n",
    "y, sr = librosa.load('09 Purple Rain.wav', sr=None)\n",
    "# Compute the Short-Time Fourier Transform (STFT)\n",
    "D = librosa.amplitude_to_db(np.abs(librosa.stft(y)), ref=np.max)\n",
    "\n",
    "# Generate time and frequency axes\n",
    "time = np.linspace(0, len(y) / sr, num=D.shape[1])\n",
    "freq = librosa.fft_frequencies(sr=sr, n_fft=2048)\n",
    "\n",
    "# Create a spectrogram with hover information\n",
    "fig = px.imshow(D, x=time, y=freq, labels={'x': 'Time (s)', 'y': 'Frequency (Hz)', 'color': 'Magnitude (dB)'},\n",
    "                aspect='auto', origin='lower', color_continuous_scale='Viridis')\n",
    "fig.update_layout(title='Interactive Spectrogram', xaxis_title='Time (s)', yaxis_title='Frequency (Hz)')\n",
    "fig.show()\n",
    "\n",
    "# Embed an audio player\n",
    "from IPython.display import Audio, display\n",
    "display(Audio(data=y, rate=sr))\n"
   ]
  },
  {
   "cell_type": "code",
   "execution_count": null,
   "metadata": {},
   "outputs": [],
   "source": []
  }
 ],
 "metadata": {
  "kernelspec": {
   "display_name": "ml",
   "language": "python",
   "name": "python3"
  },
  "language_info": {
   "codemirror_mode": {
    "name": "ipython",
    "version": 3
   },
   "file_extension": ".py",
   "mimetype": "text/x-python",
   "name": "python",
   "nbconvert_exporter": "python",
   "pygments_lexer": "ipython3",
   "version": "3.11.8"
  }
 },
 "nbformat": 4,
 "nbformat_minor": 2
}
