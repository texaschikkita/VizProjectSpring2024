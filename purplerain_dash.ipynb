{
 "cells": [
  {
   "cell_type": "code",
   "execution_count": 1,
   "metadata": {},
   "outputs": [
    {
     "data": {
      "text/html": [
       "\n",
       "        <iframe\n",
       "            width=\"100%\"\n",
       "            height=\"650\"\n",
       "            src=\"http://127.0.0.1:8050/\"\n",
       "            frameborder=\"0\"\n",
       "            allowfullscreen\n",
       "            \n",
       "        ></iframe>\n",
       "        "
      ],
      "text/plain": [
       "<IPython.lib.display.IFrame at 0x2500b76e2d0>"
      ]
     },
     "metadata": {},
     "output_type": "display_data"
    }
   ],
   "source": [
    "import dash\n",
    "from dash import html, dcc\n",
    "import plotly.express as px\n",
    "import librosa\n",
    "import numpy as np\n",
    "\n",
    "# Initialize the Dash app\n",
    "app = dash.Dash(__name__)\n",
    "\n",
    "# Load audio\n",
    "y, sr = librosa.load('09 Purple Rain.wav', sr=None)\n",
    "# Compute various features\n",
    "spectral_centroids = librosa.feature.spectral_centroid(y=y, sr=sr)\n",
    "\n",
    "# Spectrogram as before\n",
    "D = librosa.amplitude_to_db(np.abs(librosa.stft(y)), ref=np.max)\n",
    "time = np.linspace(0, len(y) / sr, num=D.shape[1])\n",
    "freq = librosa.fft_frequencies(sr=sr, n_fft=2048)\n",
    "spectrogram_fig = px.imshow(D, x=time, y=freq, aspect='auto', origin='lower')\n",
    "\n",
    "# Setup the app layout\n",
    "app.layout = html.Div([\n",
    "    html.H1(\"Audio Analysis Dashboard\"),\n",
    "    dcc.Graph(id='spectrogram-graph', figure=spectrogram_fig),\n",
    "    dcc.Graph(id='feature-graph', figure=px.line(x=time, y=spectral_centroids[0], labels={'x': 'Time', 'y': 'Spectral Centroid'})),\n",
    "    html.Audio(src='path_to_your_audio_file.wav', controls=True)\n",
    "])\n",
    "\n",
    "if __name__ == '__main__':\n",
    "    app.run_server(debug=True)\n"
   ]
  },
  {
   "cell_type": "code",
   "execution_count": null,
   "metadata": {},
   "outputs": [],
   "source": []
  }
 ],
 "metadata": {
  "kernelspec": {
   "display_name": "ml",
   "language": "python",
   "name": "python3"
  },
  "language_info": {
   "codemirror_mode": {
    "name": "ipython",
    "version": 3
   },
   "file_extension": ".py",
   "mimetype": "text/x-python",
   "name": "python",
   "nbconvert_exporter": "python",
   "pygments_lexer": "ipython3",
   "version": "3.11.8"
  }
 },
 "nbformat": 4,
 "nbformat_minor": 2
}
